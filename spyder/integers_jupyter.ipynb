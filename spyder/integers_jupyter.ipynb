{
 "cells": [
  {
   "cell_type": "markdown",
   "id": "0566eadb",
   "metadata": {},
   "source": [
    "# This is my jupiter notebook\n",
    "\n",
    "## Program to print 1 to 10\n",
    "\n",
    "* bullet point 1\n",
    "* bullet point 2"
   ]
  },
  {
   "cell_type": "code",
   "execution_count": null,
   "id": "47d52f66",
   "metadata": {},
   "outputs": [],
   "source": [
    "print (1:10)\n",
    "\n",
    "print(c(1:10))\n",
    "class(c(1:10))\n",
    "\n",
    "for (i in 1:10)(\n",
    "  print (i)\n",
    ")"
   ]
  },
  {
   "cell_type": "code",
   "execution_count": null,
   "id": "54f9e55d",
   "metadata": {},
   "outputs": [],
   "source": []
  },
  {
   "cell_type": "code",
   "execution_count": null,
   "id": "2ff63e7d",
   "metadata": {},
   "outputs": [],
   "source": []
  }
 ],
 "metadata": {
  "kernelspec": {
   "display_name": "Python 3",
   "language": "python",
   "name": "python3"
  },
  "language_info": {
   "codemirror_mode": {
    "name": "ipython",
    "version": 3
   },
   "file_extension": ".py",
   "mimetype": "text/x-python",
   "name": "python",
   "nbconvert_exporter": "python",
   "pygments_lexer": "ipython3",
   "version": "3.8.8"
  }
 },
 "nbformat": 4,
 "nbformat_minor": 5
}
